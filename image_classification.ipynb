{
 "cells": [
  {
   "cell_type": "markdown",
   "metadata": {
    "colab_type": "text",
    "id": "view-in-github"
   },
   "source": [
    "<a href=\"https://colab.research.google.com/github/satyaabdul/Deep-Learning/blob/master/image_classification.ipynb\" target=\"_parent\"><img src=\"https://colab.research.google.com/assets/colab-badge.svg\" alt=\"Open In Colab\"/></a>"
   ]
  },
  {
   "cell_type": "markdown",
   "metadata": {
    "colab_type": "text",
    "id": "XQLc9nKh2Czb"
   },
   "source": [
    "# **Deep Learning**\n",
    "\n",
    "**Image Classification**\n",
    "\n",
    "\n",
    "1.   **RNN**\n",
    "2.   **LSTM**\n",
    "3.   **GRU** \n",
    "4.   **Bidirectional LSTM**\n"
   ]
  },
  {
   "cell_type": "markdown",
   "metadata": {
    "colab_type": "text",
    "id": "S3PeH4tY15Bf"
   },
   "source": [
    "\n",
    "\n",
    "---\n",
    "## **Persiapan Data**\n"
   ]
  },
  {
   "cell_type": "code",
   "execution_count": 35,
   "metadata": {
    "colab": {
     "base_uri": "https://localhost:8080/",
     "height": 34
    },
    "colab_type": "code",
    "id": "ps01YvSSCPBD",
    "outputId": "adb5e8bd-0855-4612-88e6-d99cb00c3847"
   },
   "outputs": [
    {
     "name": "stdout",
     "output_type": "stream",
     "text": [
      "2.0.0-rc1\n"
     ]
    }
   ],
   "source": [
    "# !pip install tensorflow\n",
    "\n",
    "import tensorflow as tf\n",
    "print(tf.__version__)\n",
    "# %tensorflow_version 2.x"
   ]
  },
  {
   "cell_type": "code",
   "execution_count": 36,
   "metadata": {
    "colab": {
     "base_uri": "https://localhost:8080/",
     "height": 102
    },
    "colab_type": "code",
    "id": "fXAQLcYCCmCo",
    "outputId": "2304197f-7958-40d9-9e91-e7f4f12c183d"
   },
   "outputs": [
    {
     "name": "stdout",
     "output_type": "stream",
     "text": [
      "x_train shape: (50000, 32, 32, 3)\n",
      "y_train shape: (50000, 10)\n",
      "x_test shape: (10000, 32, 32, 3)\n",
      "y_test shape: (10000, 10)\n"
     ]
    }
   ],
   "source": [
    "#data yang digunakan cifar10\n",
    "#klasifikasi gambar dengan 10 kelas\n",
    "from keras.datasets import cifar10\n",
    "from keras.utils import np_utils\n",
    "\n",
    "(x_train, y_train), (x_test, y_test) = cifar10.load_data()\n",
    "\n",
    "# ubah class vectors ke binary vectors\n",
    "y_train = np_utils.to_categorical(y_train)\n",
    "y_test = np_utils.to_categorical(y_test)\n",
    "\n",
    "#print train dan test shape\n",
    "print('x_train shape:', x_train.shape)\n",
    "print('y_train shape:', y_train.shape)\n",
    "print('x_test shape:', x_test.shape)\n",
    "print('y_test shape:', y_test.shape)"
   ]
  },
  {
   "cell_type": "code",
   "execution_count": 37,
   "metadata": {
    "colab": {
     "base_uri": "https://localhost:8080/",
     "height": 169
    },
    "colab_type": "code",
    "id": "0klQwpUGLJRb",
    "outputId": "10870581-ab7d-4253-b31e-d25260ff3489"
   },
   "outputs": [
    {
     "data": {
      "image/png": "[encoded data removed]",
      "text/plain": [
       "<Figure size 288x144 with 2 Axes>"
      ]
     },
     "metadata": {
      "needs_background": "light"
     },
     "output_type": "display_data"
    },
    {
     "name": "stdout",
     "output_type": "stream",
     "text": [
      "[0. 0. 0. 0. 0. 0. 0. 0. 1. 0.]\n"
     ]
    }
   ],
   "source": [
    "import matplotlib.pyplot as plt\n",
    "import numpy as np\n",
    "\n",
    "def grayscale(data, dtype='float32'):\n",
    "    # convert RGB ke luma grayscale\n",
    "    r, g, b = np.asarray(.3, dtype=dtype), np.asarray(.59, dtype=dtype), np.asarray(.11, dtype=dtype)\n",
    "    rst = r * data[:, :, :, 0] + g * data[:, :, :, 1] + b * data[:, :, :, 2]\n",
    "    # dimensi channel\n",
    "    rst = np.expand_dims(rst, axis=3)\n",
    "    return rst\n",
    "\n",
    "#definisikan x train dan test yang sudah di ubah menjadi grayscale\n",
    "x_train_gray = grayscale(x_train)\n",
    "x_test_gray = grayscale(x_test)\n",
    "\n",
    "# deskripsikan chanelnya cuma 1\n",
    "img_channels = 1\n",
    "\n",
    "# coba plot gambar indeks ke-\n",
    "img = 8\n",
    "plt.figure(figsize=(4, 2))\n",
    "plt.subplot(1, 2, 1)\n",
    "plt.imshow(x_train[img], interpolation='none')\n",
    "plt.subplot(1, 2, 2)\n",
    "plt.imshow(x_train_gray[img, :, :, 0], cmap=plt.get_cmap('gray'), interpolation='none')\n",
    "plt.show()\n",
    "#kelas gambar\n",
    "#1)airplane 2)automobile 3)bird 4)cat 5)deer 6)dog 7)frog 8)horse 9)ship 10)truck\n",
    "print(y_train[img])"
   ]
  },
  {
   "cell_type": "code",
   "execution_count": 38,
   "metadata": {
    "colab": {
     "base_uri": "https://localhost:8080/",
     "height": 51
    },
    "colab_type": "code",
    "id": "CC0fE6_AOhc9",
    "outputId": "3ab12875-d84b-4b6a-93fe-7e965d7dd602"
   },
   "outputs": [
    {
     "name": "stdout",
     "output_type": "stream",
     "text": [
      "x_train_gray shape: (40000, 32, 32, 1)\n",
      "x_val_gray shape: (10000, 32, 32, 1)\n"
     ]
    }
   ],
   "source": [
    "from sklearn.model_selection import train_test_split\n",
    "\n",
    "#split data ke data train menjadi data train dan validasi  dari x_train_gray\n",
    "x_train_gray, x_val_gray, y_train, y_val = train_test_split(x_train_gray, y_train, test_size=0.2, random_state=0)\n",
    "\n",
    "#print ukuran \n",
    "print('x_train_gray shape:', x_train_gray.shape)\n",
    "print('x_val_gray shape:', x_val_gray.shape)"
   ]
  },
  {
   "cell_type": "markdown",
   "metadata": {
    "colab_type": "text",
    "id": "-Zx1Ersc1eRE"
   },
   "source": [
    "\n",
    "\n",
    "---\n",
    "\n",
    "## **Deep Learning - RNN**\n",
    "\n"
   ]
  },
  {
   "cell_type": "code",
   "execution_count": 39,
   "metadata": {
    "colab": {
     "base_uri": "https://localhost:8080/",
     "height": 258
    },
    "colab_type": "code",
    "id": "__n7XHNtPJOj",
    "outputId": "83b6b2bf-9547-4163-e0b1-e79146366c6b"
   },
   "outputs": [
    {
     "name": "stdout",
     "output_type": "stream",
     "text": [
      "Train on 40000 samples, validate on 10000 samples\n",
      "Epoch 1/6\n",
      "WARNING:tensorflow:Entity <function Function._initialize_uninitialized_variables.<locals>.initialize_variables at 0x7f15441dbd08> could not be transformed and will be executed as-is. Please report this to the AutoGraph team. When filing the bug, set the verbosity to 10 (on Linux, `export AUTOGRAPH_VERBOSITY=10`) and attach the full output. Cause: module 'gast' has no attribute 'Num'\n",
      "WARNING: Entity <function Function._initialize_uninitialized_variables.<locals>.initialize_variables at 0x7f15441dbd08> could not be transformed and will be executed as-is. Please report this to the AutoGraph team. When filing the bug, set the verbosity to 10 (on Linux, `export AUTOGRAPH_VERBOSITY=10`) and attach the full output. Cause: module 'gast' has no attribute 'Num'\n",
      "40000/40000 [==============================] - 114s 3ms/sample - loss: 2.3007 - accuracy: 0.1045 - val_loss: 2.2938 - val_accuracy: 0.1137\n",
      "Epoch 2/6\n",
      "40000/40000 [==============================] - 108s 3ms/sample - loss: 2.2827 - accuracy: 0.1321 - val_loss: 2.2839 - val_accuracy: 0.1316\n",
      "Epoch 3/6\n",
      "40000/40000 [==============================] - 108s 3ms/sample - loss: 2.2677 - accuracy: 0.1465 - val_loss: 2.2877 - val_accuracy: 0.1338\n",
      "Epoch 4/6\n",
      "40000/40000 [==============================] - 109s 3ms/sample - loss: 2.2718 - accuracy: 0.1409 - val_loss: 2.2990 - val_accuracy: 0.1141\n",
      "Epoch 5/6\n",
      "40000/40000 [==============================] - 111s 3ms/sample - loss: 2.2609 - accuracy: 0.1520 - val_loss: 2.2971 - val_accuracy: 0.1317\n",
      "Epoch 6/6\n",
      "40000/40000 [==============================] - 118s 3ms/sample - loss: 2.2347 - accuracy: 0.1681 - val_loss: 2.2790 - val_accuracy: 0.1390\n"
     ]
    }
   ],
   "source": [
    "from tensorflow.keras.models import Sequential\n",
    "from tensorflow.keras.layers import SimpleRNN,Dense,Flatten,Embedding\n",
    "\n",
    "#proses sequential\n",
    "model_RNN = Sequential()\n",
    "#ubah input menjadi array 1-D (img size x img size x img channels)\n",
    "model_RNN.add(Flatten(input_shape=(32,32,1)))\n",
    "#embedding imput flatten\n",
    "model_RNN.add(Embedding(10000, 32))\n",
    "#gunakan RNN dengan 32 neuron/memory\n",
    "model_RNN.add(SimpleRNN(32))\n",
    "#hiden layers dengan 64 neuron/memory\n",
    "model_RNN.add(Dense(64,activation='relu'))\n",
    "#hiden layers 2 dengan 64 neuron/memory\n",
    "model_RNN.add(Dense(64,activation='relu'))\n",
    "#output layer dengan 10 neuron/memory\n",
    "model_RNN.add(Dense(10,activation='softmax'))\n",
    "#compile model\n",
    "model_RNN.compile(optimizer='adam', loss='categorical_crossentropy', metrics=['accuracy'])\n",
    "#history RNN\n",
    "hist_RNN = model_RNN.fit(x_train_gray,y_train,\n",
    "                         batch_size=128,\n",
    "                         epochs=6,\n",
    "                         validation_data=(x_val_gray,y_val))\n",
    "# model_RNN.summary()"
   ]
  },
  {
   "cell_type": "code",
   "execution_count": 10,
   "metadata": {
    "colab": {
     "base_uri": "https://localhost:8080/",
     "height": 51
    },
    "colab_type": "code",
    "id": "ThOqg46YzTKW",
    "outputId": "f5970d1c-b578-46d9-caa7-e1a7774e716f"
   },
   "outputs": [
    {
     "name": "stdout",
     "output_type": "stream",
     "text": [
      "Accuracy: 13.62 %\n",
      "Loss: 227.66 %\n"
     ]
    }
   ],
   "source": [
    "#print akurasi dan loss RNN\n",
    "loss_RNN, acc_RNN = model_RNN.evaluate(x_test_gray, y_test, verbose=0)\n",
    "print(\"Accuracy: %.2f\" % (acc_RNN*100), \"%\")\n",
    "print(\"Loss: %.2f\" % (loss_RNN*100), \"%\")"
   ]
  },
  {
   "cell_type": "markdown",
   "metadata": {
    "colab_type": "text",
    "id": "Oy_bzoPO1sAL"
   },
   "source": [
    "\n",
    "\n",
    "---\n",
    "## **Deep Learning - LSTM**\n"
   ]
  },
  {
   "cell_type": "code",
   "execution_count": 11,
   "metadata": {
    "colab": {
     "base_uri": "https://localhost:8080/",
     "height": 309
    },
    "colab_type": "code",
    "id": "gcPoOsDctnY2",
    "outputId": "417628d0-7753-43d5-d114-2b8b06508de2"
   },
   "outputs": [
    {
     "name": "stdout",
     "output_type": "stream",
     "text": [
      "Train on 40000 samples, validate on 10000 samples\n",
      "Epoch 1/6\n",
      "WARNING:tensorflow:Entity <function Function._initialize_uninitialized_variables.<locals>.initialize_variables at 0x7f152a1ee730> could not be transformed and will be executed as-is. Please report this to the AutoGraph team. When filing the bug, set the verbosity to 10 (on Linux, `export AUTOGRAPH_VERBOSITY=10`) and attach the full output. Cause: module 'gast' has no attribute 'Num'\n",
      "WARNING: Entity <function Function._initialize_uninitialized_variables.<locals>.initialize_variables at 0x7f152a1ee730> could not be transformed and will be executed as-is. Please report this to the AutoGraph team. When filing the bug, set the verbosity to 10 (on Linux, `export AUTOGRAPH_VERBOSITY=10`) and attach the full output. Cause: module 'gast' has no attribute 'Num'\n",
      "40000/40000 [==============================] - 206s 5ms/sample - loss: 2.2859 - accuracy: 0.1252 - val_loss: 2.2669 - val_accuracy: 0.1352\n",
      "Epoch 2/6\n",
      "40000/40000 [==============================] - 223s 6ms/sample - loss: 2.2832 - accuracy: 0.1330 - val_loss: 2.2808 - val_accuracy: 0.1394\n",
      "Epoch 3/6\n",
      "40000/40000 [==============================] - 198s 5ms/sample - loss: 2.2764 - accuracy: 0.1408 - val_loss: 2.2718 - val_accuracy: 0.1462\n",
      "Epoch 4/6\n",
      "40000/40000 [==============================] - 208s 5ms/sample - loss: 2.2630 - accuracy: 0.1532 - val_loss: 2.2622 - val_accuracy: 0.1543\n",
      "Epoch 5/6\n",
      "40000/40000 [==============================] - 199s 5ms/sample - loss: 2.2644 - accuracy: 0.1489 - val_loss: 2.2813 - val_accuracy: 0.1394\n",
      "Epoch 6/6\n",
      "40000/40000 [==============================] - 206s 5ms/sample - loss: 2.2634 - accuracy: 0.1543 - val_loss: 2.2926 - val_accuracy: 0.1408\n"
     ]
    }
   ],
   "source": [
    "from tensorflow.keras.models import Sequential\n",
    "from tensorflow.keras.layers import LSTM,Dense,Flatten,Embedding\n",
    "\n",
    "#proses sequential\n",
    "model_LSTM = Sequential()\n",
    "#ubah input menjadi array 1-D (img size x img size x img channels)\n",
    "model_LSTM.add(Flatten(input_shape=(32,32,1)))\n",
    "#embedding imput flatten\n",
    "model_LSTM.add(Embedding(10000, 32))\n",
    "#gunakan LSTM dengan 32 neuron/memory\n",
    "model_LSTM.add(LSTM(32))\n",
    "#hiden layers dengan 64 neuron/memory\n",
    "model_LSTM.add(Dense(64,activation='relu'))\n",
    "#hiden layers 2 dengan 64 neuron/memory\n",
    "model_LSTM.add(Dense(64,activation='relu'))\n",
    "#output layer dengan 10 neuron/memory\n",
    "model_LSTM.add(Dense(10,activation='softmax'))\n",
    "#compile model\n",
    "model_LSTM.compile(optimizer='adam', loss='categorical_crossentropy', metrics=['accuracy'])\n",
    "#history LSTM\n",
    "hist_LSTM = model_LSTM.fit(x_train_gray,y_train,\n",
    "                         batch_size=128,\n",
    "                         epochs=6,\n",
    "                         validation_data=(x_val_gray,y_val))\n",
    "# model_LSTM.summary()"
   ]
  },
  {
   "cell_type": "code",
   "execution_count": 13,
   "metadata": {
    "colab": {
     "base_uri": "https://localhost:8080/",
     "height": 51
    },
    "colab_type": "code",
    "id": "iWidwbJav0Vt",
    "outputId": "07b31530-9f49-4fbe-e305-7434d697ae2d"
   },
   "outputs": [
    {
     "name": "stdout",
     "output_type": "stream",
     "text": [
      "Accuracy: 13.79 %\n",
      "Loss: 229.34 %\n"
     ]
    }
   ],
   "source": [
    "#print akurasi dan loss LSTM\n",
    "loss_LSTM, acc_LSTM = model_LSTM.evaluate(x_test_gray, y_test, verbose=0)\n",
    "print(\"Accuracy: %.2f\" % (acc_LSTM*100), \"%\")\n",
    "print(\"Loss: %.2f\" % (loss_LSTM*100), \"%\")"
   ]
  },
  {
   "cell_type": "markdown",
   "metadata": {
    "colab_type": "text",
    "id": "NEEhs7752naM"
   },
   "source": [
    "\n",
    "\n",
    "---\n",
    "\n",
    "## **Deep Learning - GRU**"
   ]
  },
  {
   "cell_type": "code",
   "execution_count": 23,
   "metadata": {
    "colab": {
     "base_uri": "https://localhost:8080/",
     "height": 258
    },
    "colab_type": "code",
    "id": "9V3nmfZ12x1x",
    "outputId": "5fc7b816-94c6-4ad2-fa59-ef8102442e2e"
   },
   "outputs": [
    {
     "name": "stdout",
     "output_type": "stream",
     "text": [
      "Train on 50000 samples, validate on 10000 samples\n",
      "Epoch 1/6\n",
      "WARNING:tensorflow:Entity <function Function._initialize_uninitialized_variables.<locals>.initialize_variables at 0x7f153f7f6268> could not be transformed and will be executed as-is. Please report this to the AutoGraph team. When filing the bug, set the verbosity to 10 (on Linux, `export AUTOGRAPH_VERBOSITY=10`) and attach the full output. Cause: module 'gast' has no attribute 'Num'\n",
      "WARNING: Entity <function Function._initialize_uninitialized_variables.<locals>.initialize_variables at 0x7f153f7f6268> could not be transformed and will be executed as-is. Please report this to the AutoGraph team. When filing the bug, set the verbosity to 10 (on Linux, `export AUTOGRAPH_VERBOSITY=10`) and attach the full output. Cause: module 'gast' has no attribute 'Num'\n",
      "50000/50000 [==============================] - 217s 4ms/sample - loss: 2.2863 - accuracy: 0.1294 - val_loss: 2.2443 - val_accuracy: 0.1487\n",
      "Epoch 2/6\n",
      "50000/50000 [==============================] - 216s 4ms/sample - loss: 2.1817 - accuracy: 0.1764 - val_loss: 2.1423 - val_accuracy: 0.1892\n",
      "Epoch 3/6\n",
      "50000/50000 [==============================] - 215s 4ms/sample - loss: 2.1279 - accuracy: 0.1990 - val_loss: 2.1026 - val_accuracy: 0.2087\n",
      "Epoch 4/6\n",
      "50000/50000 [==============================] - 220s 4ms/sample - loss: 2.0937 - accuracy: 0.2174 - val_loss: 2.0699 - val_accuracy: 0.2264\n",
      "Epoch 5/6\n",
      "50000/50000 [==============================] - 228s 5ms/sample - loss: 2.0460 - accuracy: 0.2365 - val_loss: 1.9873 - val_accuracy: 0.2572\n",
      "Epoch 6/6\n",
      "50000/50000 [==============================] - 214s 4ms/sample - loss: 1.9496 - accuracy: 0.2696 - val_loss: 1.9012 - val_accuracy: 0.2869\n"
     ]
    }
   ],
   "source": [
    "from tensorflow.keras.models import Sequential\n",
    "from tensorflow.keras.layers import GRU,Dense,Flatten,Embedding\n",
    "\n",
    "#proses sequential\n",
    "model_GRU = Sequential()\n",
    "#ubah input menjadi array 1-D (img size x img size x img channels)\n",
    "model_GRU.add(Flatten(input_shape=(32,32,1)))\n",
    "#embedding imput flatten\n",
    "model_GRU.add(Embedding(10000, 32))\n",
    "#gunakan GRU dengan 32 neuron/memory\n",
    "model_GRU.add(GRU(32))\n",
    "#hiden layers dengan 64 neuron/memory\n",
    "model_GRU.add(Dense(64,activation='relu'))\n",
    "#hiden layers 2 dengan 64 neuron/memory\n",
    "model_GRU.add(Dense(64,activation='relu'))\n",
    "#output layer dengan 10 neuron/memory\n",
    "model_GRU.add(Dense(10,activation='softmax'))\n",
    "#compile model\n",
    "model_GRU.compile(optimizer='adam', loss='categorical_crossentropy', metrics=['accuracy'])\n",
    "#history LSTM\n",
    "hist_GRU = model_GRU.fit(x_train_gray,y_train,\n",
    "                         batch_size=128,\n",
    "                         epochs=6,\n",
    "                         validation_data=(x_val_gray,y_val))\n",
    "# model_LSTM.summary()"
   ]
  },
  {
   "cell_type": "code",
   "execution_count": null,
   "metadata": {
    "colab": {
     "base_uri": "https://localhost:8080/",
     "height": 51
    },
    "colab_type": "code",
    "id": "P60yyW5c3Fah",
    "outputId": "67c7e08e-9263-4f7d-cf4d-e13d8ab1609b"
   },
   "outputs": [],
   "source": [
    "#print akurasi dan loss GRU\n",
    "loss_GRU, acc_GRU = model_GRU.evaluate(x_test_gray, y_test, verbose=0)\n",
    "print(\"Accuracy: %.2f\" % (acc_GRU*100), \"%\")\n",
    "print(\"Loss: %.2f\" % (loss_GRU*100), \"%\")"
   ]
  },
  {
   "cell_type": "markdown",
   "metadata": {
    "colab_type": "text",
    "id": "WPzDY6ZT3Ul9"
   },
   "source": [
    "\n",
    "\n",
    "---\n",
    "## **Deep Learning - Bidirectional LSTM**\n"
   ]
  },
  {
   "cell_type": "code",
   "execution_count": null,
   "metadata": {
    "colab": {
     "base_uri": "https://localhost:8080/",
     "height": 411
    },
    "colab_type": "code",
    "id": "UDGYmseN3cLj",
    "outputId": "6b143d01-90cc-40cd-d3f6-ce5566d0b11c"
   },
   "outputs": [],
   "source": [
    "from tensorflow.keras.models import Sequential\n",
    "from tensorflow.keras.layers import Bidirectional,LSTM,Dense,Flatten,Embedding\n",
    "\n",
    "#proses sequential\n",
    "model_BLSTM = Sequential()\n",
    "#ubah input menjadi array 1-D (img size x img size x img channels)\n",
    "model_BLSTM.add(Flatten(input_shape=(32,32,1)))\n",
    "#embedding imput flatten\n",
    "model_BLSTM.add(Embedding(10000, 32))\n",
    "#gunakan Bidirectinal LSTM dengan 32 neuron/memory\n",
    "model_BLSTM.add(Bidirectional(LSTM(32)))\n",
    "#hiden layers dengan 64 neuron/memory\n",
    "model_BLSTM.add(Dense(64,activation='relu'))\n",
    "#hiden layers 2 dengan 64 neuron/memory\n",
    "model_BLSTM.add(Dense(64,activation='relu'))\n",
    "#output layer dengan 10 neuron/memory\n",
    "model_BLSTM.add(Dense(10,activation='softmax'))\n",
    "#compile model\n",
    "model_BLSTM.compile(optimizer='adam', loss='categorical_crossentropy', metrics=['accuracy'])\n",
    "#history BLSTM\n",
    "hist_BLSTM = model_BLSTM.fit(x_train_gray,y_train,\n",
    "                         batch_size=128,\n",
    "                         epochs=6,\n",
    "                         validation_data=(x_val_gray,y_val))\n",
    "# model_BLSTM.summary()"
   ]
  },
  {
   "cell_type": "code",
   "execution_count": null,
   "metadata": {
    "colab": {
     "base_uri": "https://localhost:8080/",
     "height": 51
    },
    "colab_type": "code",
    "id": "cbVOdsWE4Q34",
    "outputId": "278eecd3-248e-4882-d94f-55617e24acea"
   },
   "outputs": [],
   "source": [
    "#print akurasi dan loss BLSTM\n",
    "loss_BLSTM, acc_BLSTM = model_BLSTM.evaluate(x_test_gray, y_test, verbose=0)\n",
    "print(\"Accuracy: %.2f\" % (acc_BLSTM*100), \"%\")\n",
    "print(\"Loss: %.2f\" % (loss_BLSTM*100), \"%\")"
   ]
  }
 ],
 "metadata": {
  "colab": {
   "authorship_tag": "ABX9TyPg8B71e0lknNKh8v3Y9S+f",
   "include_colab_link": true,
   "name": "image classification.ipynb",
   "provenance": []
  },
  "kernelspec": {
   "display_name": "Python 3",
   "language": "python",
   "name": "python3"
  },
  "language_info": {
   "codemirror_mode": {
    "name": "ipython",
    "version": 3
   },
   "file_extension": ".py",
   "mimetype": "text/x-python",
   "name": "python",
   "nbconvert_exporter": "python",
   "pygments_lexer": "ipython3",
   "version": "3.6.9"
  }
 },
 "nbformat": 4,
 "nbformat_minor": 1
}
