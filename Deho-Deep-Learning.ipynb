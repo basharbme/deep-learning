{
 "cells": [
  {
   "cell_type": "code",
   "execution_count": 311,
   "metadata": {},
   "outputs": [],
   "source": [
    "# !pip3 install scikit-image \n",
    "# !pip3 install opencv-python\n",
    "# !pip3 install matplotlib\n",
    "# !pip3 install scikit-image\n",
    "\n",
    "import numpy as np\n",
    "import cv2\n",
    "from matplotlib import pyplot as plt \n",
    "from skimage.feature import greycomatrix, greycoprops\n",
    "from skimage import io\n",
    "import glob"
   ]
  },
  {
   "cell_type": "code",
   "execution_count": null,
   "metadata": {},
   "outputs": [],
   "source": [
    "# Please download data in here for preprocessing : https://drive.google.com/drive/folders/16VOVcVlQgAuUKAbrTSJGAjhQQqCPS3jW?usp=sharing\n",
    "# Or u can read from properties.csv file. this file result from my proprocessing..."
   ]
  },
  {
   "cell_type": "code",
   "execution_count": 316,
   "metadata": {},
   "outputs": [],
   "source": [
    "def read_image_data_from_folder(path):\n",
    "    \"\"\"Read data image from path \"\"\"\n",
    "    folders = glob.glob(path)\n",
    "    list_image = []\n",
    "\n",
    "    for folder in folders:\n",
    "        for f in glob.glob(folder):\n",
    "            list_image.append(f)\n",
    "    \n",
    "    return list_image\n"
   ]
  },
  {
   "cell_type": "code",
   "execution_count": 313,
   "metadata": {},
   "outputs": [],
   "source": [
    "def preprocessing_image(image, image_name):\n",
    "    \"\"\"Preprocessing for image using gray level coocurance matrix with distance 1 and angel 0\"\"\"\n",
    "    \n",
    "    image_grayscale = cv2.cvtColor(image, cv2.COLOR_BGR2GRAY) # convert image to grayscale\n",
    "    result = greycomatrix(image_grayscale, [1], [0], 256, normed=True) # glcm processing\n",
    "    \n",
    "    result = [image_name, greycoprops(result, 'contrast')[0][0], \n",
    "                      greycoprops(result, 'dissimilarity')[0][0], greycoprops(result, 'homogeneity')[0][0],\n",
    "                      greycoprops(result, 'energy')[0][0], greycoprops(result, 'correlation')[0][0], \n",
    "                      greycoprops(result, 'ASM')[0][0]]\n",
    "    return result"
   ]
  },
  {
   "cell_type": "code",
   "execution_count": 317,
   "metadata": {},
   "outputs": [
    {
     "name": "stdout",
     "output_type": "stream",
     "text": [
      "data sucess to create\n"
     ]
    }
   ],
   "source": [
    "list_name_image = read_image_data_from_folder('/home/malik/Skripsi+data/Skripsi+data/Training/*.jpg')\n",
    "properties =[]\n",
    "properties.append(['file', 'contrast', 'dissimiliarity', 'homogeneity', 'energy', 'correlation', 'ASM']) # title column\n",
    "\n",
    "for image_name in list_name_image:\n",
    "    image = cv2.imread(image_name)\n",
    "    properties.append(preprocessing_image(image, image_name))\n",
    "\n",
    "print(\"data sucess to create\")    \n",
    "np.savetxt('/home/malik/properties.csv', properties, fmt='%s', delimiter=',')"
   ]
  },
  {
   "cell_type": "code",
   "execution_count": 302,
   "metadata": {},
   "outputs": [],
   "source": [
    "# Deep learning starter here :) #"
   ]
  },
  {
   "cell_type": "code",
   "execution_count": 299,
   "metadata": {},
   "outputs": [],
   "source": [
    "# Just simple trial and error :( :( :( :( #\n",
    "# image = cv2.imread('/home/malik/Downloads/data_dl/fish.jpeg')\n",
    "# image_grayscle = cv2.cvtColor(image, cv2.COLOR_BGR2GRAY)\n",
    "# # io.imshow(image_grayscle)\n",
    "\n",
    "# result = greycomatrix(image_grayscle, [1], [0], 256, normed=True)\n",
    "# contrast = greycoprops(result, 'contrast') #ukuran penyeberan elemen-elemen matriks citra.\n",
    "# dissimilarity = greycoprops(result, 'dissimilarity')\n",
    "# homogeneity = greycoprops(result, 'homogeneity') #kesamaan dari coocurrance matrix dan diagonal matrix\n",
    "# energy = greycoprops(result, 'energy') #ukuran keseragaman atau homogenitas citra\n",
    "# correlation = greycoprops(result, 'correlation') #ketergantungan linier derajar keabuan citra\n",
    "# asm = greycoprops(result, 'ASM') #ukuran keseragaman atau homogenitas citra\n",
    "\n",
    "# print('contrast :\\t\\t', contrast)\n",
    "# print('contrast :\\t\\t', contrast[0][0])\n",
    "# print('dissimiliarity :\\t', dissimilarity)\n",
    "# print('homogeneity :\\t\\t', homogeneity) \n",
    "# print('energy :\\t\\t', energy)\n",
    "# print('correlation :\\t\\t', correlation) \n",
    "# print('asm :\\t\\t\\t', asm)"
   ]
  }
 ],
 "metadata": {
  "kernelspec": {
   "display_name": "Python 3",
   "language": "python",
   "name": "python3"
  },
  "language_info": {
   "codemirror_mode": {
    "name": "ipython",
    "version": 3
   },
   "file_extension": ".py",
   "mimetype": "text/x-python",
   "name": "python",
   "nbconvert_exporter": "python",
   "pygments_lexer": "ipython3",
   "version": "3.6.9"
  }
 },
 "nbformat": 4,
 "nbformat_minor": 4
}
